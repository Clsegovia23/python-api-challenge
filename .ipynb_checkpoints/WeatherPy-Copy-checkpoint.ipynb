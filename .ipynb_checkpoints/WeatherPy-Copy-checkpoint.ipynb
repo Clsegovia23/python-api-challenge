{
 "cells": [
  {
   "cell_type": "code",
   "execution_count": null,
   "id": "b2813fd9",
   "metadata": {},
   "outputs": [],
   "source": [
    "#dependencies\n",
    "import pandas as pd\n",
    "import matplotlib.pyplot as plt\n",
    "import requests\n",
    "import json\n",
    "\n",
    "# Google developer API key\n",
    "from config import gkey\n",
    "from citypy import citypy\n",
    "\n",
    "# Configure gmaps\n",
    "gmaps.configure(api_key=gkey)\n"
   ]
  },
  {
   "cell_type": "code",
   "execution_count": null,
   "id": "b3a9eb8f",
   "metadata": {},
   "outputs": [],
   "source": [
    "# Generate 500+ cities across the world \n",
    "\n",
    "cities_df = pd.read_csv('.../Resources/')\n",
    "cities_df.dropna(inplace = True)\n",
    "cities_df.head()\n",
    "# first requirement is to create a series of scatter plots\n",
    "cities = []\n",
    "country = []\n",
    "\n",
    "\n",
    "# Temperature (F) vs. Latitude\n",
    "\n",
    "# Humidity (%) vs. Latitude\n",
    "\n",
    "# Cloudiness (%) vs. Latitude\n",
    "\n",
    "# Wind Speed (mph) vs. Latitude\n"
   ]
  }
 ],
 "metadata": {
  "kernelspec": {
   "display_name": "Python 3",
   "language": "python",
   "name": "python3"
  },
  "language_info": {
   "codemirror_mode": {
    "name": "ipython",
    "version": 3
   },
   "file_extension": ".py",
   "mimetype": "text/x-python",
   "name": "python",
   "nbconvert_exporter": "python",
   "pygments_lexer": "ipython3",
   "version": "3.8.8"
  }
 },
 "nbformat": 4,
 "nbformat_minor": 5
}
