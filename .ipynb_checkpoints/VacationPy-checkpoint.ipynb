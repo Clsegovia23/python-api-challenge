{
 "cells": [
  {
   "cell_type": "markdown",
   "metadata": {},
   "source": [
    "# VacationPy\n",
    "----\n",
    "\n",
    "#### Note\n",
    "* Keep an eye on your API usage. Use https://developers.google.com/maps/reporting/gmp-reporting as reference for how to monitor your usage and billing.\n",
    "\n",
    "* Instructions have been included for each segment. You do not have to follow them exactly, but they are included to help you think through the steps."
   ]
  },
  {
   "cell_type": "code",
   "execution_count": 1,
   "metadata": {},
   "outputs": [],
   "source": [
    "# Dependencies and Setup\n",
    "import matplotlib.pyplot as plt\n",
    "import pandas as pd\n",
    "import numpy as np\n",
    "import requests\n",
    "import gmaps\n",
    "import os\n",
    "import time\n",
    "import json\n",
    "\n",
    "# Import API key\n",
    "from config import g_key"
   ]
  },
  {
   "cell_type": "markdown",
   "metadata": {},
   "source": [
    "### Store Part I results into DataFrame\n",
    "* Load the csv exported in Part I to a DataFrame"
   ]
  },
  {
   "cell_type": "code",
   "execution_count": 2,
   "metadata": {},
   "outputs": [
    {
     "data": {
      "text/html": [
       "<div>\n",
       "<style scoped>\n",
       "    .dataframe tbody tr th:only-of-type {\n",
       "        vertical-align: middle;\n",
       "    }\n",
       "\n",
       "    .dataframe tbody tr th {\n",
       "        vertical-align: top;\n",
       "    }\n",
       "\n",
       "    .dataframe thead th {\n",
       "        text-align: right;\n",
       "    }\n",
       "</style>\n",
       "<table border=\"1\" class=\"dataframe\">\n",
       "  <thead>\n",
       "    <tr style=\"text-align: right;\">\n",
       "      <th></th>\n",
       "      <th>City</th>\n",
       "      <th>Longitude</th>\n",
       "      <th>Latitude</th>\n",
       "      <th>Temp. (max)</th>\n",
       "      <th>Humidity</th>\n",
       "      <th>Cloudiness</th>\n",
       "      <th>Wind Speed</th>\n",
       "      <th>Dates</th>\n",
       "    </tr>\n",
       "  </thead>\n",
       "  <tbody>\n",
       "    <tr>\n",
       "      <th>0</th>\n",
       "      <td>Esperance</td>\n",
       "      <td>121.9000</td>\n",
       "      <td>-33.8667</td>\n",
       "      <td>58.84</td>\n",
       "      <td>70.0</td>\n",
       "      <td>75.0</td>\n",
       "      <td>37.38</td>\n",
       "      <td>1.627355e+09</td>\n",
       "    </tr>\n",
       "    <tr>\n",
       "      <th>1</th>\n",
       "      <td>Touros</td>\n",
       "      <td>-35.4608</td>\n",
       "      <td>-5.1989</td>\n",
       "      <td>72.50</td>\n",
       "      <td>89.0</td>\n",
       "      <td>5.0</td>\n",
       "      <td>8.70</td>\n",
       "      <td>1.627355e+09</td>\n",
       "    </tr>\n",
       "    <tr>\n",
       "      <th>2</th>\n",
       "      <td>New Norfolk</td>\n",
       "      <td>147.0587</td>\n",
       "      <td>-42.7826</td>\n",
       "      <td>60.93</td>\n",
       "      <td>60.0</td>\n",
       "      <td>58.0</td>\n",
       "      <td>5.01</td>\n",
       "      <td>1.627355e+09</td>\n",
       "    </tr>\n",
       "    <tr>\n",
       "      <th>3</th>\n",
       "      <td>Mataura</td>\n",
       "      <td>168.8643</td>\n",
       "      <td>-46.1927</td>\n",
       "      <td>52.48</td>\n",
       "      <td>70.0</td>\n",
       "      <td>13.0</td>\n",
       "      <td>4.74</td>\n",
       "      <td>1.627355e+09</td>\n",
       "    </tr>\n",
       "    <tr>\n",
       "      <th>4</th>\n",
       "      <td>Curaçá</td>\n",
       "      <td>-39.9094</td>\n",
       "      <td>-8.9903</td>\n",
       "      <td>73.71</td>\n",
       "      <td>65.0</td>\n",
       "      <td>89.0</td>\n",
       "      <td>15.12</td>\n",
       "      <td>1.627355e+09</td>\n",
       "    </tr>\n",
       "  </tbody>\n",
       "</table>\n",
       "</div>"
      ],
      "text/plain": [
       "          City  Longitude  Latitude  Temp. (max)  Humidity  Cloudiness  \\\n",
       "0    Esperance   121.9000  -33.8667        58.84      70.0        75.0   \n",
       "1       Touros   -35.4608   -5.1989        72.50      89.0         5.0   \n",
       "2  New Norfolk   147.0587  -42.7826        60.93      60.0        58.0   \n",
       "3      Mataura   168.8643  -46.1927        52.48      70.0        13.0   \n",
       "4       Curaçá   -39.9094   -8.9903        73.71      65.0        89.0   \n",
       "\n",
       "   Wind Speed         Dates  \n",
       "0       37.38  1.627355e+09  \n",
       "1        8.70  1.627355e+09  \n",
       "2        5.01  1.627355e+09  \n",
       "3        4.74  1.627355e+09  \n",
       "4       15.12  1.627355e+09  "
      ]
     },
     "execution_count": 2,
     "metadata": {},
     "output_type": "execute_result"
    }
   ],
   "source": [
    "weather_data = pd.read_csv(\"../python-api-challenge/output_data/weather_df.csv\")\n",
    "weather_data.head()"
   ]
  },
  {
   "cell_type": "markdown",
   "metadata": {},
   "source": [
    "### Humidity Heatmap\n",
    "* Configure gmaps.\n",
    "* Use the Lat and Lng as locations and Humidity as the weight.\n",
    "* Add Heatmap layer to map."
   ]
  },
  {
   "cell_type": "code",
   "execution_count": 3,
   "metadata": {},
   "outputs": [],
   "source": [
    "#config gmaps\n",
    "gmaps.configure(api_key=g_key)"
   ]
  },
  {
   "cell_type": "code",
   "execution_count": 7,
   "metadata": {},
   "outputs": [],
   "source": [
    "# store latitude and logitude in locations\n",
    "locations = weather_data[[\"Latitude\", \"Longitude\"]].astype(float)\n",
    "\n",
    "weather_data = weather_data.dropna()\n",
    "\n",
    "# store humidity in humidity\n",
    "humidity = weather_data[\"Humidity\"].astype(float)"
   ]
  },
  {
   "cell_type": "code",
   "execution_count": 8,
   "metadata": {},
   "outputs": [
    {
     "data": {
      "application/vnd.jupyter.widget-view+json": {
       "model_id": "97983e76cb3940468e5c2917bb386b48",
       "version_major": 2,
       "version_minor": 0
      },
      "text/plain": [
       "Figure(layout=FigureLayout(height='420px'))"
      ]
     },
     "metadata": {},
     "output_type": "display_data"
    }
   ],
   "source": [
    "# create a heatmap layer\n",
    "fig = gmaps.figure()\n",
    "max_intensity = np.max(humidity)\n",
    "\n",
    "heat_layer = gmaps.heatmap_layer(locations, weights=humidity, \n",
    "                                 dissipating=False, max_intensity=100,\n",
    "                                 point_radius = 3)\n",
    "\n",
    "fig.add_layer(heat_layer)\n",
    "\n",
    "fig\n"
   ]
  },
  {
   "cell_type": "markdown",
   "metadata": {},
   "source": [
    "### Create new DataFrame fitting weather criteria\n",
    "* Narrow down the cities to fit weather conditions.\n",
    "* Drop any rows will null values."
   ]
  },
  {
   "cell_type": "code",
   "execution_count": 9,
   "metadata": {},
   "outputs": [
    {
     "data": {
      "text/html": [
       "<div>\n",
       "<style scoped>\n",
       "    .dataframe tbody tr th:only-of-type {\n",
       "        vertical-align: middle;\n",
       "    }\n",
       "\n",
       "    .dataframe tbody tr th {\n",
       "        vertical-align: top;\n",
       "    }\n",
       "\n",
       "    .dataframe thead th {\n",
       "        text-align: right;\n",
       "    }\n",
       "</style>\n",
       "<table border=\"1\" class=\"dataframe\">\n",
       "  <thead>\n",
       "    <tr style=\"text-align: right;\">\n",
       "      <th></th>\n",
       "      <th>City</th>\n",
       "      <th>Longitude</th>\n",
       "      <th>Latitude</th>\n",
       "      <th>Temp. (max)</th>\n",
       "      <th>Humidity</th>\n",
       "      <th>Cloudiness</th>\n",
       "      <th>Wind Speed</th>\n",
       "      <th>Dates</th>\n",
       "    </tr>\n",
       "  </thead>\n",
       "  <tbody>\n",
       "    <tr>\n",
       "      <th>25</th>\n",
       "      <td>Kiryat Gat</td>\n",
       "      <td>34.7642</td>\n",
       "      <td>31.6100</td>\n",
       "      <td>77.40</td>\n",
       "      <td>86.0</td>\n",
       "      <td>0.0</td>\n",
       "      <td>3.78</td>\n",
       "      <td>1.627355e+09</td>\n",
       "    </tr>\n",
       "    <tr>\n",
       "      <th>117</th>\n",
       "      <td>Netivot</td>\n",
       "      <td>34.5886</td>\n",
       "      <td>31.4222</td>\n",
       "      <td>74.89</td>\n",
       "      <td>85.0</td>\n",
       "      <td>0.0</td>\n",
       "      <td>4.61</td>\n",
       "      <td>1.627355e+09</td>\n",
       "    </tr>\n",
       "    <tr>\n",
       "      <th>258</th>\n",
       "      <td>Tafresh</td>\n",
       "      <td>50.0130</td>\n",
       "      <td>34.6920</td>\n",
       "      <td>73.26</td>\n",
       "      <td>32.0</td>\n",
       "      <td>0.0</td>\n",
       "      <td>6.08</td>\n",
       "      <td>1.627355e+09</td>\n",
       "    </tr>\n",
       "    <tr>\n",
       "      <th>331</th>\n",
       "      <td>Watrous</td>\n",
       "      <td>-105.4679</td>\n",
       "      <td>51.6668</td>\n",
       "      <td>71.64</td>\n",
       "      <td>38.0</td>\n",
       "      <td>0.0</td>\n",
       "      <td>4.83</td>\n",
       "      <td>1.627355e+09</td>\n",
       "    </tr>\n",
       "    <tr>\n",
       "      <th>354</th>\n",
       "      <td>Talā</td>\n",
       "      <td>30.9429</td>\n",
       "      <td>30.6803</td>\n",
       "      <td>71.31</td>\n",
       "      <td>78.0</td>\n",
       "      <td>0.0</td>\n",
       "      <td>4.18</td>\n",
       "      <td>1.627355e+09</td>\n",
       "    </tr>\n",
       "  </tbody>\n",
       "</table>\n",
       "</div>"
      ],
      "text/plain": [
       "           City  Longitude  Latitude  Temp. (max)  Humidity  Cloudiness  \\\n",
       "25   Kiryat Gat    34.7642   31.6100        77.40      86.0         0.0   \n",
       "117     Netivot    34.5886   31.4222        74.89      85.0         0.0   \n",
       "258     Tafresh    50.0130   34.6920        73.26      32.0         0.0   \n",
       "331     Watrous  -105.4679   51.6668        71.64      38.0         0.0   \n",
       "354        Talā    30.9429   30.6803        71.31      78.0         0.0   \n",
       "\n",
       "     Wind Speed         Dates  \n",
       "25         3.78  1.627355e+09  \n",
       "117        4.61  1.627355e+09  \n",
       "258        6.08  1.627355e+09  \n",
       "331        4.83  1.627355e+09  \n",
       "354        4.18  1.627355e+09  "
      ]
     },
     "execution_count": 9,
     "metadata": {},
     "output_type": "execute_result"
    }
   ],
   "source": [
    "# Narrow down the cities to fit weather conditions.\n",
    "# max temperature lower than 80 degrees but higher than 70\n",
    "# wind speed less than 10 mph\n",
    "# Zero cloudiness\n",
    "# Drop any rows that don't contain all three conditions\n",
    "select_cities_df = weather_data.loc[(weather_data[\"Temp. (max)\"]<80) &\n",
    "                                    (weather_data[\"Temp. (max)\"]>70) &\n",
    "                                    (weather_data[\"Wind Speed\"]<10) &\n",
    "                                    (weather_data[\"Cloudiness\"]==0)].dropna()\n",
    "select_cities_df.head()\n"
   ]
  },
  {
   "cell_type": "markdown",
   "metadata": {},
   "source": [
    "### Hotel Map\n",
    "* Store into variable named `hotel_df`.\n",
    "* Add a \"Hotel Name\" column to the DataFrame.\n",
    "* Set parameters to search for hotels with 5000 meters.\n",
    "* Hit the Google Places API for each city's coordinates.\n",
    "* Store the first Hotel result into the DataFrame.\n",
    "* Plot markers on top of the heatmap."
   ]
  },
  {
   "cell_type": "code",
   "execution_count": 10,
   "metadata": {},
   "outputs": [
    {
     "data": {
      "text/html": [
       "<div>\n",
       "<style scoped>\n",
       "    .dataframe tbody tr th:only-of-type {\n",
       "        vertical-align: middle;\n",
       "    }\n",
       "\n",
       "    .dataframe tbody tr th {\n",
       "        vertical-align: top;\n",
       "    }\n",
       "\n",
       "    .dataframe thead th {\n",
       "        text-align: right;\n",
       "    }\n",
       "</style>\n",
       "<table border=\"1\" class=\"dataframe\">\n",
       "  <thead>\n",
       "    <tr style=\"text-align: right;\">\n",
       "      <th></th>\n",
       "      <th>City</th>\n",
       "      <th>Latitude</th>\n",
       "      <th>Longitude</th>\n",
       "      <th>Hotel Name</th>\n",
       "    </tr>\n",
       "  </thead>\n",
       "  <tbody>\n",
       "    <tr>\n",
       "      <th>25</th>\n",
       "      <td>Kiryat Gat</td>\n",
       "      <td>31.6100</td>\n",
       "      <td>34.7642</td>\n",
       "      <td></td>\n",
       "    </tr>\n",
       "    <tr>\n",
       "      <th>117</th>\n",
       "      <td>Netivot</td>\n",
       "      <td>31.4222</td>\n",
       "      <td>34.5886</td>\n",
       "      <td></td>\n",
       "    </tr>\n",
       "    <tr>\n",
       "      <th>258</th>\n",
       "      <td>Tafresh</td>\n",
       "      <td>34.6920</td>\n",
       "      <td>50.0130</td>\n",
       "      <td></td>\n",
       "    </tr>\n",
       "    <tr>\n",
       "      <th>331</th>\n",
       "      <td>Watrous</td>\n",
       "      <td>51.6668</td>\n",
       "      <td>-105.4679</td>\n",
       "      <td></td>\n",
       "    </tr>\n",
       "    <tr>\n",
       "      <th>354</th>\n",
       "      <td>Talā</td>\n",
       "      <td>30.6803</td>\n",
       "      <td>30.9429</td>\n",
       "      <td></td>\n",
       "    </tr>\n",
       "  </tbody>\n",
       "</table>\n",
       "</div>"
      ],
      "text/plain": [
       "           City  Latitude  Longitude Hotel Name\n",
       "25   Kiryat Gat   31.6100    34.7642           \n",
       "117     Netivot   31.4222    34.5886           \n",
       "258     Tafresh   34.6920    50.0130           \n",
       "331     Watrous   51.6668  -105.4679           \n",
       "354        Talā   30.6803    30.9429           "
      ]
     },
     "execution_count": 10,
     "metadata": {},
     "output_type": "execute_result"
    }
   ],
   "source": [
    "# create hotel_df\n",
    "hotel_df = select_cities_df.loc[:,[\"City\", \"Latitude\", \"Longitude\"]]\n",
    "\n",
    "# add hotel name to df\n",
    "hotel_df[\"Hotel Name\"]=\"\"\n",
    "\n",
    "hotel_df.head()"
   ]
  },
  {
   "cell_type": "code",
   "execution_count": 11,
   "metadata": {},
   "outputs": [],
   "source": [
    "#Using Google Places API to find the first hotel for each city located within 5000 meters of your coordinates.\n",
    "\n",
    "base_url = \"https://maps.googleapis.com/maps/api/place/nearbysearch/json\"\n",
    "\n",
    "params = {\"type\" : \"hotel\",\n",
    "          \"keyword\" : \"hotel\",\n",
    "          \"radius\" : 5000,\n",
    "          \"key\" : g_key}"
   ]
  },
  {
   "cell_type": "code",
   "execution_count": 12,
   "metadata": {},
   "outputs": [
    {
     "name": "stdout",
     "output_type": "stream",
     "text": [
      "Retrieving Results for Index 25: Kiryat Gat.\n",
      "Closest hotel in Kiryat Gat is Desert Gat.\n",
      "------------\n",
      "Retrieving Results for Index 117: Netivot.\n",
      "Missing field/result... skipping.\n",
      "------------\n",
      "Retrieving Results for Index 258: Tafresh.\n",
      "Closest hotel in Tafresh is Pardisan Hotel.\n",
      "------------\n",
      "Retrieving Results for Index 331: Watrous.\n",
      "Closest hotel in Watrous is Super 8 by Wyndham Watrous.\n",
      "------------\n",
      "Retrieving Results for Index 354: Talā.\n",
      "Missing field/result... skipping.\n",
      "------------\n",
      "Retrieving Results for Index 391: Jalu.\n",
      "Closest hotel in Jalu is إستراحة صلاح الصادق.\n",
      "------------\n",
      "Retrieving Results for Index 429: Khojaly District.\n",
      "Missing field/result... skipping.\n",
      "------------\n",
      "Retrieving Results for Index 447: Ismailia.\n",
      "Closest hotel in Ismailia is Tolip Alforsan Island Hotel And Spa.\n",
      "------------\n",
      "Retrieving Results for Index 465: Mozarlândia.\n",
      "Closest hotel in Mozarlândia is Hotel Santa Mônica.\n",
      "------------\n",
      "-------End of Search-------\n"
     ]
    }
   ],
   "source": [
    "# loop\n",
    "\n",
    "for index, row in hotel_df.iterrows():\n",
    "    lat = row[\"Latitude\"]\n",
    "    lng = row[\"Longitude\"]\n",
    "    city_name = row[\"City\"]\n",
    "    \n",
    "    # add keyword to params dict\n",
    "    params[\"location\"] = f\"{lat},{lng}\"\n",
    "\n",
    "    print(f\"Retrieving Results for Index {index}: {city_name}.\")\n",
    "    response = requests.get(base_url, params=params).json()\n",
    "        \n",
    "    results = response['results']\n",
    "    \n",
    "    # save the hotel name to dataframe\n",
    "    try:\n",
    "        print(f\"Closest hotel in {city_name} is {results[0]['name']}.\")\n",
    "        hotel_df.loc[index, \"Hotel Name\"] = results[0]['name']\n",
    "\n",
    "    # if there is no hotel available, show missing field\n",
    "    except (KeyError, IndexError):\n",
    "        print(\"Missing field/result... skipping.\")\n",
    "        \n",
    "    print(\"------------\")\n",
    "    \n",
    "    # Wait 5 sec to make another api request to avoid SSL Error\n",
    "    time.sleep(5)\n",
    "\n",
    "# Print end of search once searching is completed\n",
    "print(\"-------End of Search-------\")"
   ]
  },
  {
   "cell_type": "code",
   "execution_count": 14,
   "metadata": {},
   "outputs": [
    {
     "data": {
      "text/html": [
       "<div>\n",
       "<style scoped>\n",
       "    .dataframe tbody tr th:only-of-type {\n",
       "        vertical-align: middle;\n",
       "    }\n",
       "\n",
       "    .dataframe tbody tr th {\n",
       "        vertical-align: top;\n",
       "    }\n",
       "\n",
       "    .dataframe thead th {\n",
       "        text-align: right;\n",
       "    }\n",
       "</style>\n",
       "<table border=\"1\" class=\"dataframe\">\n",
       "  <thead>\n",
       "    <tr style=\"text-align: right;\">\n",
       "      <th></th>\n",
       "      <th>City</th>\n",
       "      <th>Latitude</th>\n",
       "      <th>Longitude</th>\n",
       "      <th>Hotel Name</th>\n",
       "    </tr>\n",
       "  </thead>\n",
       "  <tbody>\n",
       "    <tr>\n",
       "      <th>25</th>\n",
       "      <td>Kiryat Gat</td>\n",
       "      <td>31.6100</td>\n",
       "      <td>34.7642</td>\n",
       "      <td>Desert Gat</td>\n",
       "    </tr>\n",
       "    <tr>\n",
       "      <th>117</th>\n",
       "      <td>Netivot</td>\n",
       "      <td>31.4222</td>\n",
       "      <td>34.5886</td>\n",
       "      <td></td>\n",
       "    </tr>\n",
       "    <tr>\n",
       "      <th>258</th>\n",
       "      <td>Tafresh</td>\n",
       "      <td>34.6920</td>\n",
       "      <td>50.0130</td>\n",
       "      <td>Pardisan Hotel</td>\n",
       "    </tr>\n",
       "    <tr>\n",
       "      <th>331</th>\n",
       "      <td>Watrous</td>\n",
       "      <td>51.6668</td>\n",
       "      <td>-105.4679</td>\n",
       "      <td>Super 8 by Wyndham Watrous</td>\n",
       "    </tr>\n",
       "    <tr>\n",
       "      <th>354</th>\n",
       "      <td>Talā</td>\n",
       "      <td>30.6803</td>\n",
       "      <td>30.9429</td>\n",
       "      <td></td>\n",
       "    </tr>\n",
       "  </tbody>\n",
       "</table>\n",
       "</div>"
      ],
      "text/plain": [
       "           City  Latitude  Longitude                  Hotel Name\n",
       "25   Kiryat Gat   31.6100    34.7642                  Desert Gat\n",
       "117     Netivot   31.4222    34.5886                            \n",
       "258     Tafresh   34.6920    50.0130              Pardisan Hotel\n",
       "331     Watrous   51.6668  -105.4679  Super 8 by Wyndham Watrous\n",
       "354        Talā   30.6803    30.9429                            "
      ]
     },
     "execution_count": 14,
     "metadata": {},
     "output_type": "execute_result"
    }
   ],
   "source": [
    "# Display the hotel dataframe\n",
    "hotel_df.head()"
   ]
  },
  {
   "cell_type": "code",
   "execution_count": 19,
   "metadata": {},
   "outputs": [],
   "source": [
    "# NOTE: Do not change any of the code in this cell\n",
    "\n",
    "# Using the template add the hotel marks to the heatmap\n",
    "info_box_template = \"\"\"\n",
    "<dl>\n",
    "<dt>Name</dt><dd>{Hotel Name}</dd>\n",
    "<dt>City</dt><dd>{City}</dd>\n",
    "</dl>\n",
    "\"\"\"\n",
    "# Store the DataFrame Row\n",
    "# NOTE: be sure to update with your DataFrame name\n",
    "hotel_info = [info_box_template.format(**row) for index, row in hotel_df.iterrows()]\n",
    "locations = hotel_df[[\"Latitude\", \"Longitude\"]]"
   ]
  },
  {
   "cell_type": "code",
   "execution_count": 20,
   "metadata": {},
   "outputs": [],
   "source": [
    "# Add marker layer ontop of heat map\n",
    "markers = gmaps.marker_layer(locations, info_box_content = hotel_info)\n",
    "\n",
    "# Display figure\n",
    "fig.add_layer(markers)"
   ]
  },
  {
   "cell_type": "code",
   "execution_count": 21,
   "metadata": {},
   "outputs": [
    {
     "data": {
      "application/vnd.jupyter.widget-view+json": {
       "model_id": "97983e76cb3940468e5c2917bb386b48",
       "version_major": 2,
       "version_minor": 0
      },
      "text/plain": [
       "Figure(layout=FigureLayout(height='420px'))"
      ]
     },
     "metadata": {},
     "output_type": "display_data"
    }
   ],
   "source": [
    "fig"
   ]
  },
  {
   "cell_type": "code",
   "execution_count": null,
   "metadata": {},
   "outputs": [],
   "source": []
  }
 ],
 "metadata": {
  "kernelspec": {
   "display_name": "Python 3",
   "language": "python",
   "name": "python3"
  },
  "language_info": {
   "codemirror_mode": {
    "name": "ipython",
    "version": 3
   },
   "file_extension": ".py",
   "mimetype": "text/x-python",
   "name": "python",
   "nbconvert_exporter": "python",
   "pygments_lexer": "ipython3",
   "version": "3.8.8"
  },
  "latex_envs": {
   "LaTeX_envs_menu_present": true,
   "autoclose": false,
   "autocomplete": true,
   "bibliofile": "biblio.bib",
   "cite_by": "apalike",
   "current_citInitial": 1,
   "eqLabelWithNumbers": true,
   "eqNumInitial": 1,
   "hotkeys": {
    "equation": "Ctrl-E",
    "itemize": "Ctrl-I"
   },
   "labels_anchors": false,
   "latex_user_defs": false,
   "report_style_numbering": false,
   "user_envs_cfg": false
  }
 },
 "nbformat": 4,
 "nbformat_minor": 4
}
